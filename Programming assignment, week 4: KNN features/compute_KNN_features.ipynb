{
 "cells": [
  {
   "cell_type": "markdown",
   "metadata": {},
   "source": [
    "Version 1.1.0"
   ]
  },
  {
   "cell_type": "markdown",
   "metadata": {},
   "source": [
    "# The task"
   ]
  },
  {
   "cell_type": "markdown",
   "metadata": {},
   "source": [
    "In this assignment you will need to implement features, based on nearest neighbours. \n",
    "\n",
    "KNN classifier (regressor) is a very powerful model, when the features are homogeneous and it is a very common practice to use KNN as first level model. In this homework we will extend KNN model and compute more features, based on nearest neighbors and their distances. \n",
    "\n",
    "You will need to implement a number of features, that were one of the key features, that leaded the instructors to prizes in [Otto](https://www.kaggle.com/c/otto-group-product-classification-challenge) and [Springleaf](https://www.kaggle.com/c/springleaf-marketing-response) competitions. Of course, the list of features you will need to implement can be extended, in fact in competitions the list was at least 3 times larger. So when solving a real competition do not hesitate to make up your own features.   \n",
    "\n",
    "You can optionally implement multicore feature computation. Nearest neighbours are hard to compute so it is preferable to have a parallel version of the algorithm. In fact, it is really a cool skill to know how to use `multiprocessing`, `joblib` and etc. In this homework you will have a chance to see the benefits of parallel algorithm. "
   ]
  },
  {
   "cell_type": "markdown",
   "metadata": {},
   "source": [
    "# Check your versions"
   ]
  },
  {
   "cell_type": "markdown",
   "metadata": {},
   "source": [
    "Some functions we use here are not present in old versions of the libraries, so make sure you have up-to-date software. "
   ]
  },
  {
   "cell_type": "code",
   "execution_count": 3,
   "metadata": {},
   "outputs": [
    {
     "name": "stdout",
     "output_type": "stream",
     "text": [
      "numpy 1.15.4\n",
      "pandas 0.24.2\n",
      "sklearn 0.20.1\n",
      "scipy 0.19.1\n"
     ]
    }
   ],
   "source": [
    "import numpy as np\n",
    "import pandas as pd \n",
    "import sklearn\n",
    "import scipy.sparse \n",
    "\n",
    "for p in [np, pd, sklearn, scipy]:\n",
    "    print (p.__name__, p.__version__)"
   ]
  },
  {
   "cell_type": "markdown",
   "metadata": {},
   "source": [
    "The versions should be not less than:\n",
    "\n",
    "    numpy 1.13.1\n",
    "    pandas 0.20.3\n",
    "    sklearn 0.19.0\n",
    "    scipy 0.19.1\n",
    "   \n",
    "**IMPORTANT!** The results with `scipy=1.0.0` will be different! Make sure you use _exactly_ version `0.19.1`."
   ]
  },
  {
   "cell_type": "markdown",
   "metadata": {},
   "source": [
    "# Load data"
   ]
  },
  {
   "cell_type": "markdown",
   "metadata": {},
   "source": [
    "Learn features and labels. These features are actually OOF predictions of linear models."
   ]
  },
  {
   "cell_type": "code",
   "execution_count": 4,
   "metadata": {},
   "outputs": [],
   "source": [
    "train_path = '../readonly/KNN_features_data/X.npz'\n",
    "train_labels = '../readonly/KNN_features_data/Y.npy'\n",
    "\n",
    "test_path = '../readonly/KNN_features_data/X_test.npz'\n",
    "test_labels = '../readonly/KNN_features_data/Y_test.npy'\n",
    "\n",
    "# Train data\n",
    "X = scipy.sparse.load_npz(train_path)\n",
    "Y = np.load(train_labels)\n",
    "\n",
    "# Test data\n",
    "X_test = scipy.sparse.load_npz(test_path)\n",
    "Y_test = np.load(test_labels)\n",
    "\n",
    "# Out-of-fold features we loaded above were generated with n_splits=4 and skf seed 123\n",
    "# So it is better to use seed 123 for generating KNN features as well \n",
    "skf_seed = 123\n",
    "n_splits = 4"
   ]
  },
  {
   "cell_type": "markdown",
   "metadata": {},
   "source": [
    "Below you need to implement features, based on nearest neighbors."
   ]
  },
  {
   "cell_type": "code",
   "execution_count": 5,
   "metadata": {},
   "outputs": [
    {
     "name": "stdout",
     "output_type": "stream",
     "text": [
      "29\n"
     ]
    },
    {
     "data": {
      "text/plain": [
       "array([ 0,  1,  2,  3,  4,  5,  6,  7,  8,  9, 10, 11, 12, 13, 14, 15, 16,\n",
       "       17, 18, 19, 20, 21, 22, 23, 24, 25, 26, 27, 28])"
      ]
     },
     "execution_count": 5,
     "metadata": {},
     "output_type": "execute_result"
    }
   ],
   "source": [
    "print(len(np.unique(Y)))\n",
    "np.unique(Y)"
   ]
  },
  {
   "cell_type": "code",
   "execution_count": 6,
   "metadata": {},
   "outputs": [],
   "source": [
    "x = np.array([5,5,5,5,5,4,2,5,5,5,4,3,3,1,5,7,6])"
   ]
  },
  {
   "cell_type": "code",
   "execution_count": 7,
   "metadata": {},
   "outputs": [
    {
     "data": {
      "text/plain": [
       "array([0, 1, 1, 2, 2, 9, 1, 1])"
      ]
     },
     "execution_count": 7,
     "metadata": {},
     "output_type": "execute_result"
    }
   ],
   "source": [
    "np.bincount(x)"
   ]
  },
  {
   "cell_type": "code",
   "execution_count": 8,
   "metadata": {},
   "outputs": [
    {
     "data": {
      "text/plain": [
       "(array([ 4,  5,  6,  9, 10, 12, 13, 14, 15]),)"
      ]
     },
     "execution_count": 8,
     "metadata": {},
     "output_type": "execute_result"
    }
   ],
   "source": [
    "np.where(x[1:] != x[:-1])"
   ]
  },
  {
   "cell_type": "code",
   "execution_count": 9,
   "metadata": {},
   "outputs": [
    {
     "data": {
      "text/plain": [
       "(array([], dtype=int64),)"
      ]
     },
     "execution_count": 9,
     "metadata": {},
     "output_type": "execute_result"
    }
   ],
   "source": [
    "np.where(x[1:] > 400)"
   ]
  },
  {
   "cell_type": "code",
   "execution_count": 10,
   "metadata": {},
   "outputs": [
    {
     "data": {
      "text/plain": [
       "(array([ 0,  1,  2,  3,  6,  7,  8, 13, 14, 15]),)"
      ]
     },
     "execution_count": 10,
     "metadata": {},
     "output_type": "execute_result"
    }
   ],
   "source": [
    "np.where(x[1:] > 4)"
   ]
  },
  {
   "cell_type": "code",
   "execution_count": 11,
   "metadata": {},
   "outputs": [
    {
     "data": {
      "text/plain": [
       "[5]"
      ]
     },
     "execution_count": 11,
     "metadata": {},
     "output_type": "execute_result"
    }
   ],
   "source": [
    "[np.where(x[1:] != x[:-1])[0][0] + 1]"
   ]
  },
  {
   "cell_type": "code",
   "execution_count": 12,
   "metadata": {},
   "outputs": [
    {
     "data": {
      "text/plain": [
       "[5, 5, 5, 5, 5, 4, 2, 5, 5, 5, 4, 3, 3, 1, 5, 7, 6]"
      ]
     },
     "execution_count": 12,
     "metadata": {},
     "output_type": "execute_result"
    }
   ],
   "source": [
    "x.tolist()"
   ]
  },
  {
   "cell_type": "code",
   "execution_count": 44,
   "metadata": {},
   "outputs": [],
   "source": [
    "from sklearn.base import BaseEstimator, ClassifierMixin\n",
    "from sklearn.neighbors import NearestNeighbors\n",
    "from multiprocessing import Pool\n",
    "\n",
    "import numpy as np\n",
    "\n",
    "\n",
    "class NearestNeighborsFeats(BaseEstimator, ClassifierMixin):\n",
    "    '''\n",
    "        This class should implement KNN features extraction \n",
    "    '''\n",
    "    def __init__(self, n_jobs, k_list, metric, n_classes=None, n_neighbors=None, eps=1e-6):\n",
    "        self.n_jobs = n_jobs\n",
    "        self.k_list = k_list\n",
    "        self.metric = metric\n",
    "        \n",
    "        if n_neighbors is None:\n",
    "            self.n_neighbors = max(k_list) \n",
    "        else:\n",
    "            self.n_neighbors = n_neighbors\n",
    "            \n",
    "        self.eps = eps        \n",
    "        self.n_classes_ = n_classes\n",
    "    \n",
    "    def fit(self, X, y):\n",
    "        '''\n",
    "            Set's up the train set and self.NN object\n",
    "        '''\n",
    "        # Create a NearestNeighbors (NN) object. We will use it in `predict` function \n",
    "        self.NN = NearestNeighbors(n_neighbors=max(self.k_list), \n",
    "                                      metric=self.metric, \n",
    "                                      n_jobs=1, \n",
    "                                      algorithm='brute' if self.metric=='cosine' else 'auto')\n",
    "        self.NN.fit(X)\n",
    "        \n",
    "        # Store labels \n",
    "        self.y_train = y\n",
    "        \n",
    "        # Save how many classes we have\n",
    "        self.n_classes = np.unique(y).shape[0] if self.n_classes_ is None else self.n_classes_\n",
    "        \n",
    "        \n",
    "    def predict(self, X):       \n",
    "        '''\n",
    "            Produces KNN features for every object of a dataset X\n",
    "        '''\n",
    "        if self.n_jobs == 1:\n",
    "            test_feats = []\n",
    "            for i in range(X.shape[0]):\n",
    "                test_feats.append(self.get_features_for_one(X[i:i+1]))\n",
    "        else:\n",
    "            '''\n",
    "                 *Make it parallel*\n",
    "                     Number of threads should be controlled by `self.n_jobs`  \n",
    "                     \n",
    "                     \n",
    "                     You can use whatever you want to do it\n",
    "                     For Python 3 the simplest option would be to use \n",
    "                     `multiprocessing.Pool` (but don't use `multiprocessing.dummy.Pool` here)\n",
    "                     You may try use `joblib` but you will most likely encounter an error, \n",
    "                     that you will need to google up (and eventually it will work slowly)\n",
    "                     \n",
    "                     For Python 2 I also suggest using `multiprocessing.Pool` \n",
    "                     You will need to use a hint from this blog \n",
    "                     http://qingkaikong.blogspot.ru/2016/12/python-parallel-method-in-class.html\n",
    "                     I could not get `joblib` working at all for this code \n",
    "                     (but in general `joblib` is very convenient)\n",
    "                     \n",
    "            '''\n",
    "            pool = Pool(self.n_jobs)\n",
    "            test_feats = pool.map(self.get_features_for_one, X)\n",
    "                \n",
    "        return np.vstack(test_feats)\n",
    "        \n",
    "        \n",
    "    def get_features_for_one(self, x):\n",
    "        '''\n",
    "            Computes KNN features for a single object `x`\n",
    "        '''\n",
    "\n",
    "        NN_output = self.NN.kneighbors(x)\n",
    "        \n",
    "        # Vector of size `n_neighbors`\n",
    "        # Stores indices of the neighbors\n",
    "        neighs = NN_output[1][0]\n",
    "        \n",
    "        # Vector of size `n_neighbors`\n",
    "        # Stores distances to corresponding neighbors\n",
    "        neighs_dist = NN_output[0][0] \n",
    "\n",
    "        # Vector of size `n_neighbors`\n",
    "        # Stores labels of corresponding neighbors\n",
    "        neighs_y = self.y_train[neighs] \n",
    "        \n",
    "        ## ========================================== ##\n",
    "        ##              YOUR CODE BELOW\n",
    "        ## ========================================== ##\n",
    "        \n",
    "        # We will accumulate the computed features here\n",
    "        # Eventually it will be a list of lists or np.arrays\n",
    "        # and we will use np.hstack to concatenate those\n",
    "        return_list = [] \n",
    "        \n",
    "        \n",
    "        ''' \n",
    "            1. Fraction of objects of every class.\n",
    "               It is basically a KNNСlassifiers predictions.\n",
    "\n",
    "               Take a look at `np.bincount` function, it can be very helpful\n",
    "               Note that the values should sum up to one\n",
    "        '''\n",
    "        for k in self.k_list:\n",
    "            feats = np.bincount(neighs_y[:k], minlength=self.n_classes) / k\n",
    "            #feats = feats.tolist()\n",
    "            #print('k={}  feats={} \\n neighs_y[:k]={}'.format(k, feats, neighs_y[:k]))\n",
    "            #print(sum(feats))\n",
    "            \n",
    "            assert len(feats) == self.n_classes\n",
    "            return_list += [feats]\n",
    "        \n",
    "        \n",
    "        '''\n",
    "            2. Same label streak: the largest number N, \n",
    "               such that N nearest neighbors have the same label.\n",
    "               \n",
    "               What can help you: `np.where`\n",
    "        '''\n",
    "        if len(neighs_y) <= 1:\n",
    "            feats = [len(neighs_y)]\n",
    "        else:\n",
    "            idxs = np.where(neighs_y[1:] != neighs_y[:-1])[0]\n",
    "            if len(idxs) > 0:\n",
    "                feats = [idxs[0] + 1]\n",
    "            else:\n",
    "                feats = [len(neighs_y)]\n",
    "        \n",
    "        assert len(feats) == 1\n",
    "        return_list += [feats]\n",
    "        \n",
    "        '''\n",
    "            3. Minimum distance to objects of each class\n",
    "               Find the first instance of a class and take its distance as features.\n",
    "               \n",
    "               If there are no neighboring objects of some classes, \n",
    "               Then set distance to that class to be 999.\n",
    "\n",
    "               `np.where` might be helpful\n",
    "        '''\n",
    "        feats = []\n",
    "        for c in range(self.n_classes):\n",
    "            idxs = np.where(neighs_y == c)[0]\n",
    "            if len(idxs) > 0:\n",
    "                feats.append(neighs_dist[idxs[0]])\n",
    "            else:\n",
    "                feats.append(999)\n",
    "        \n",
    "        assert len(feats) == self.n_classes\n",
    "        return_list += [feats]\n",
    "        \n",
    "        '''\n",
    "            4. Minimum *normalized* distance to objects of each class\n",
    "               As 3. but we normalize (divide) the distances\n",
    "               by the distance to the closest neighbor.\n",
    "               \n",
    "               If there are no neighboring objects of some classes, \n",
    "               Then set distance to that class to be 999.\n",
    "               \n",
    "               Do not forget to add self.eps to denominator.\n",
    "        '''\n",
    "        if len(neighs_dist) > 0:\n",
    "            closest_dist = neighs_dist[0]\n",
    "            feats = []\n",
    "            for c in range(self.n_classes):\n",
    "                idxs = np.where(neighs_y == c)[0]\n",
    "                if len(idxs) > 0:\n",
    "                    feats.append(neighs_dist[idxs[0]] / (closest_dist + self.eps))\n",
    "                else:\n",
    "                    feats.append(999)\n",
    "        else:\n",
    "            feats = [999] * self.n_classes\n",
    "        \n",
    "        assert len(feats) == self.n_classes\n",
    "        return_list += [feats]\n",
    "        \n",
    "        '''\n",
    "            5. \n",
    "               5.1 Distance to Kth neighbor\n",
    "                   Think of this as of quantiles of a distribution\n",
    "               5.2 Distance to Kth neighbor normalized by \n",
    "                   distance to the first neighbor\n",
    "               \n",
    "               feat_51, feat_52 are answers to 5.1. and 5.2.\n",
    "               should be scalars\n",
    "               \n",
    "               Do not forget to add self.eps to denominator.\n",
    "        '''\n",
    "        for k in self.k_list:\n",
    "            # I will assume that the dataset contains more elements than k\n",
    "            feat_51 = neighs_dist[k-1]\n",
    "            feat_52 = neighs_dist[k-1] / neighs_dist[0]\n",
    "            \n",
    "            return_list += [[feat_51, feat_52]]\n",
    "        \n",
    "        '''\n",
    "            6. Mean distance to neighbors of each class for each K from `k_list` \n",
    "                   For each class select the neighbors of that class among K nearest neighbors \n",
    "                   and compute the average distance to those objects\n",
    "                   \n",
    "                   If there are no objects of a certain class among K neighbors, set mean distance to 999\n",
    "                   \n",
    "               You can use `np.bincount` with appropriate weights\n",
    "               Don't forget, that if you divide by something, \n",
    "               You need to add `self.eps` to denominator.\n",
    "        '''\n",
    "        for k in self.k_list:\n",
    "            \n",
    "            feats = np.bincount(neighs_y[:k], weights=neighs_dist[:k], minlength=self.n_classes)\n",
    "            feats = feats / (np.bincount(neighs_y, minlength=self.n_classes) + self.eps)\n",
    "            feats = feats.tolist()\n",
    "            \n",
    "            assert len(feats) == self.n_classes\n",
    "            return_list += [feats]\n",
    "        \n",
    "        \n",
    "        # merge\n",
    "        knn_feats = np.hstack(return_list)\n",
    "        \n",
    "        assert knn_feats.shape == (239,) or knn_feats.shape == (239, 1)\n",
    "        return knn_feats"
   ]
  },
  {
   "cell_type": "markdown",
   "metadata": {},
   "source": [
    "## Sanity check"
   ]
  },
  {
   "cell_type": "markdown",
   "metadata": {},
   "source": [
    "To make sure you've implemented everything correctly we provide you the correct features for the first 50 objects."
   ]
  },
  {
   "cell_type": "code",
   "execution_count": 45,
   "metadata": {},
   "outputs": [
    {
     "name": "stderr",
     "output_type": "stream",
     "text": [
      "/Users/antelinvestigacionydesarrollo/anaconda3/envs/competitiveds/lib/python3.6/site-packages/ipykernel_launcher.py:200: RuntimeWarning: divide by zero encountered in double_scalars\n"
     ]
    },
    {
     "name": "stdout",
     "output_type": "stream",
     "text": [
      "Deviation from ground thruth features: inf\n",
      "There is a problem in feature 43, which is a part of section 1.\n",
      "There is a problem in feature 44, which is a part of section 1.\n",
      "There is a problem in feature 50, which is a part of section 1.\n",
      "There is a problem in feature 51, which is a part of section 1.\n",
      "There is a problem in feature 58, which is a part of section 1.\n",
      "There is a problem in feature 59, which is a part of section 1.\n",
      "There is a problem in feature 61, which is a part of section 1.\n",
      "There is a problem in feature 62, which is a part of section 1.\n",
      "There is a problem in feature 63, which is a part of section 1.\n",
      "There is a problem in feature 64, which is a part of section 1.\n",
      "There is a problem in feature 65, which is a part of section 1.\n",
      "There is a problem in feature 66, which is a part of section 1.\n",
      "There is a problem in feature 67, which is a part of section 1.\n",
      "There is a problem in feature 68, which is a part of section 1.\n",
      "There is a problem in feature 70, which is a part of section 1.\n",
      "There is a problem in feature 71, which is a part of section 1.\n",
      "There is a problem in feature 72, which is a part of section 1.\n",
      "There is a problem in feature 73, which is a part of section 1.\n",
      "There is a problem in feature 75, which is a part of section 1.\n",
      "There is a problem in feature 76, which is a part of section 1.\n",
      "There is a problem in feature 77, which is a part of section 1.\n",
      "There is a problem in feature 79, which is a part of section 1.\n",
      "There is a problem in feature 80, which is a part of section 1.\n",
      "There is a problem in feature 81, which is a part of section 1.\n",
      "There is a problem in feature 86, which is a part of section 1.\n",
      "There is a problem in feature 89, which is a part of section 3.\n",
      "There is a problem in feature 91, which is a part of section 3.\n",
      "There is a problem in feature 92, which is a part of section 3.\n",
      "There is a problem in feature 93, which is a part of section 3.\n",
      "There is a problem in feature 94, which is a part of section 3.\n",
      "There is a problem in feature 95, which is a part of section 3.\n",
      "There is a problem in feature 96, which is a part of section 3.\n",
      "There is a problem in feature 97, which is a part of section 3.\n",
      "There is a problem in feature 98, which is a part of section 3.\n",
      "There is a problem in feature 100, which is a part of section 3.\n",
      "There is a problem in feature 102, which is a part of section 3.\n",
      "There is a problem in feature 103, which is a part of section 3.\n",
      "There is a problem in feature 105, which is a part of section 3.\n",
      "There is a problem in feature 106, which is a part of section 3.\n",
      "There is a problem in feature 107, which is a part of section 3.\n",
      "There is a problem in feature 111, which is a part of section 3.\n",
      "There is a problem in feature 118, which is a part of section 4.\n",
      "There is a problem in feature 120, which is a part of section 4.\n",
      "There is a problem in feature 121, which is a part of section 4.\n",
      "There is a problem in feature 122, which is a part of section 4.\n",
      "There is a problem in feature 123, which is a part of section 4.\n",
      "There is a problem in feature 124, which is a part of section 4.\n",
      "There is a problem in feature 125, which is a part of section 4.\n",
      "There is a problem in feature 126, which is a part of section 4.\n",
      "There is a problem in feature 127, which is a part of section 4.\n",
      "There is a problem in feature 129, which is a part of section 4.\n",
      "There is a problem in feature 131, which is a part of section 4.\n",
      "There is a problem in feature 132, which is a part of section 4.\n",
      "There is a problem in feature 134, which is a part of section 4.\n",
      "There is a problem in feature 135, which is a part of section 4.\n",
      "There is a problem in feature 136, which is a part of section 4.\n",
      "There is a problem in feature 140, which is a part of section 4.\n",
      "There is a problem in feature 147, which is a part of section 5.\n",
      "There is a problem in feature 149, which is a part of section 5.\n",
      "There is a problem in feature 151, which is a part of section 5.\n",
      "There is a problem in feature 152, which is a part of section 6.\n",
      "There is a problem in feature 153, which is a part of section 6.\n",
      "There is a problem in feature 154, which is a part of section 6.\n",
      "There is a problem in feature 155, which is a part of section 6.\n",
      "There is a problem in feature 156, which is a part of section 6.\n",
      "There is a problem in feature 157, which is a part of section 6.\n",
      "There is a problem in feature 158, which is a part of section 6.\n",
      "There is a problem in feature 159, which is a part of section 6.\n",
      "There is a problem in feature 160, which is a part of section 6.\n",
      "There is a problem in feature 161, which is a part of section 6.\n",
      "There is a problem in feature 162, which is a part of section 6.\n",
      "There is a problem in feature 163, which is a part of section 6.\n",
      "There is a problem in feature 164, which is a part of section 6.\n",
      "There is a problem in feature 165, which is a part of section 6.\n",
      "There is a problem in feature 166, which is a part of section 6.\n",
      "There is a problem in feature 167, which is a part of section 6.\n",
      "There is a problem in feature 168, which is a part of section 6.\n",
      "There is a problem in feature 169, which is a part of section 6.\n",
      "There is a problem in feature 170, which is a part of section 6.\n",
      "There is a problem in feature 171, which is a part of section 6.\n",
      "There is a problem in feature 172, which is a part of section 6.\n",
      "There is a problem in feature 173, which is a part of section 6.\n",
      "There is a problem in feature 174, which is a part of section 6.\n",
      "There is a problem in feature 175, which is a part of section 6.\n",
      "There is a problem in feature 176, which is a part of section 6.\n",
      "There is a problem in feature 177, which is a part of section 6.\n",
      "There is a problem in feature 178, which is a part of section 6.\n",
      "There is a problem in feature 179, which is a part of section 6.\n",
      "There is a problem in feature 180, which is a part of section 6.\n",
      "There is a problem in feature 181, which is a part of section 6.\n",
      "There is a problem in feature 182, which is a part of section 6.\n",
      "There is a problem in feature 183, which is a part of section 6.\n",
      "There is a problem in feature 184, which is a part of section 6.\n",
      "There is a problem in feature 185, which is a part of section 6.\n",
      "There is a problem in feature 186, which is a part of section 6.\n",
      "There is a problem in feature 187, which is a part of section 6.\n",
      "There is a problem in feature 188, which is a part of section 6.\n",
      "There is a problem in feature 189, which is a part of section 6.\n",
      "There is a problem in feature 190, which is a part of section 6.\n",
      "There is a problem in feature 191, which is a part of section 6.\n",
      "There is a problem in feature 192, which is a part of section 6.\n",
      "There is a problem in feature 193, which is a part of section 6.\n",
      "There is a problem in feature 194, which is a part of section 6.\n",
      "There is a problem in feature 195, which is a part of section 6.\n",
      "There is a problem in feature 196, which is a part of section 6.\n",
      "There is a problem in feature 197, which is a part of section 6.\n",
      "There is a problem in feature 198, which is a part of section 6.\n",
      "There is a problem in feature 199, which is a part of section 6.\n",
      "There is a problem in feature 200, which is a part of section 6.\n",
      "There is a problem in feature 201, which is a part of section 6.\n",
      "There is a problem in feature 202, which is a part of section 6.\n",
      "There is a problem in feature 203, which is a part of section 6.\n",
      "There is a problem in feature 204, which is a part of section 6.\n",
      "There is a problem in feature 205, which is a part of section 6.\n",
      "There is a problem in feature 206, which is a part of section 6.\n",
      "There is a problem in feature 207, which is a part of section 6.\n",
      "There is a problem in feature 208, which is a part of section 6.\n",
      "There is a problem in feature 209, which is a part of section 6.\n",
      "There is a problem in feature 210, which is a part of section 6.\n",
      "There is a problem in feature 211, which is a part of section 6.\n",
      "There is a problem in feature 212, which is a part of section 6.\n",
      "There is a problem in feature 213, which is a part of section 6.\n",
      "There is a problem in feature 214, which is a part of section 6.\n",
      "There is a problem in feature 215, which is a part of section 6.\n",
      "There is a problem in feature 216, which is a part of section 6.\n",
      "There is a problem in feature 217, which is a part of section 6.\n",
      "There is a problem in feature 218, which is a part of section 6.\n",
      "There is a problem in feature 219, which is a part of section 6.\n",
      "There is a problem in feature 220, which is a part of section 6.\n",
      "There is a problem in feature 221, which is a part of section 6.\n",
      "There is a problem in feature 222, which is a part of section 6.\n",
      "There is a problem in feature 223, which is a part of section 6.\n",
      "There is a problem in feature 224, which is a part of section 6.\n",
      "There is a problem in feature 225, which is a part of section 6.\n",
      "There is a problem in feature 226, which is a part of section 6.\n",
      "There is a problem in feature 227, which is a part of section 6.\n",
      "There is a problem in feature 228, which is a part of section 6.\n",
      "There is a problem in feature 229, which is a part of section 6.\n",
      "There is a problem in feature 230, which is a part of section 6.\n",
      "There is a problem in feature 231, which is a part of section 6.\n",
      "There is a problem in feature 232, which is a part of section 6.\n",
      "There is a problem in feature 233, which is a part of section 6.\n",
      "There is a problem in feature 234, which is a part of section 6.\n",
      "There is a problem in feature 235, which is a part of section 6.\n",
      "There is a problem in feature 236, which is a part of section 6.\n",
      "There is a problem in feature 237, which is a part of section 6.\n",
      "There is a problem in feature 238, which is a part of section 6.\n"
     ]
    }
   ],
   "source": [
    "# a list of K in KNN, starts with one \n",
    "k_list = [3, 8, 32]\n",
    "\n",
    "# Load correct features\n",
    "true_knn_feats_first50 = np.load('../readonly/KNN_features_data/knn_feats_test_first50.npy')\n",
    "\n",
    "# Create instance of our KNN feature extractor\n",
    "NNF = NearestNeighborsFeats(n_jobs=1, k_list=k_list, metric='minkowski')\n",
    "\n",
    "# Fit on train set\n",
    "NNF.fit(X, Y)\n",
    "\n",
    "# Get features for test\n",
    "test_knn_feats = NNF.predict(X_test[:50])\n",
    "\n",
    "# This should be zero\n",
    "print ('Deviation from ground thruth features: %f' % np.abs(test_knn_feats - true_knn_feats_first50[44:45]).sum())\n",
    "\n",
    "deviation =np.abs(test_knn_feats - true_knn_feats_first50).sum(0)\n",
    "for m in np.where(deviation > 1e-3)[0]: \n",
    "    p = np.where(np.array([87, 88, 117, 146, 152, 239]) > m)[0][0]\n",
    "    print ('There is a problem in feature %d, which is a part of section %d.' % (m, p + 1))"
   ]
  },
  {
   "cell_type": "code",
   "execution_count": 46,
   "metadata": {},
   "outputs": [
    {
     "data": {
      "text/plain": [
       "(50, 239)"
      ]
     },
     "execution_count": 46,
     "metadata": {},
     "output_type": "execute_result"
    }
   ],
   "source": [
    "test_knn_feats.shape"
   ]
  },
  {
   "cell_type": "code",
   "execution_count": 47,
   "metadata": {},
   "outputs": [
    {
     "data": {
      "text/plain": [
       "(50, 239)"
      ]
     },
     "execution_count": 47,
     "metadata": {},
     "output_type": "execute_result"
    }
   ],
   "source": [
    "true_knn_feats_first50.shape"
   ]
  },
  {
   "cell_type": "code",
   "execution_count": 34,
   "metadata": {},
   "outputs": [
    {
     "name": "stdout",
     "output_type": "stream",
     "text": [
      "(50, 44)\n"
     ]
    },
    {
     "data": {
      "text/plain": [
       "array([[0.     , 0.     , 0.     , ..., 0.     , 0.     , 0.     ],\n",
       "       [0.     , 0.625  , 0.     , ..., 0.     , 0.03125, 0.     ],\n",
       "       [0.     , 0.     , 0.     , ..., 0.     , 0.     , 0.     ],\n",
       "       ...,\n",
       "       [0.     , 0.     , 0.     , ..., 0.     , 0.     , 0.     ],\n",
       "       [0.     , 0.     , 0.     , ..., 0.     , 0.     , 0.03125],\n",
       "       [0.     , 0.     , 0.     , ..., 0.     , 0.     , 0.     ]])"
      ]
     },
     "execution_count": 34,
     "metadata": {},
     "output_type": "execute_result"
    }
   ],
   "source": [
    "problem1 = test_knn_feats[:, 43:87]\n",
    "print(problem1.shape)\n",
    "problem1"
   ]
  },
  {
   "cell_type": "code",
   "execution_count": 36,
   "metadata": {},
   "outputs": [
    {
     "data": {
      "text/plain": [
       "43"
      ]
     },
     "execution_count": 36,
     "metadata": {},
     "output_type": "execute_result"
    }
   ],
   "source": [
    "3 + 8 + 32"
   ]
  },
  {
   "cell_type": "code",
   "execution_count": 66,
   "metadata": {},
   "outputs": [
    {
     "data": {
      "text/plain": [
       "29"
      ]
     },
     "execution_count": 66,
     "metadata": {},
     "output_type": "execute_result"
    }
   ],
   "source": [
    "NNF.n_classes"
   ]
  },
  {
   "cell_type": "code",
   "execution_count": 67,
   "metadata": {},
   "outputs": [
    {
     "data": {
      "text/plain": [
       "87"
      ]
     },
     "execution_count": 67,
     "metadata": {},
     "output_type": "execute_result"
    }
   ],
   "source": [
    "NNF.n_classes * 3"
   ]
  },
  {
   "cell_type": "code",
   "execution_count": 60,
   "metadata": {},
   "outputs": [
    {
     "data": {
      "text/plain": [
       "(50,)"
      ]
     },
     "execution_count": 60,
     "metadata": {},
     "output_type": "execute_result"
    }
   ],
   "source": [
    "diff = np.abs(test_knn_feats - true_knn_feats_first50)[:, 43]\n",
    "diff.shape"
   ]
  },
  {
   "cell_type": "code",
   "execution_count": 62,
   "metadata": {},
   "outputs": [
    {
     "data": {
      "text/plain": [
       "(array([44]),)"
      ]
     },
     "execution_count": 62,
     "metadata": {},
     "output_type": "execute_result"
    }
   ],
   "source": [
    "np.where(diff> 1e-3)"
   ]
  },
  {
   "cell_type": "code",
   "execution_count": 74,
   "metadata": {},
   "outputs": [
    {
     "data": {
      "text/plain": [
       "0.125"
      ]
     },
     "execution_count": 74,
     "metadata": {},
     "output_type": "execute_result"
    }
   ],
   "source": [
    "test_knn_feats[44,43]"
   ]
  },
  {
   "cell_type": "code",
   "execution_count": 75,
   "metadata": {},
   "outputs": [
    {
     "data": {
      "text/plain": [
       "14"
      ]
     },
     "execution_count": 75,
     "metadata": {},
     "output_type": "execute_result"
    }
   ],
   "source": [
    "43 - 29"
   ]
  },
  {
   "cell_type": "code",
   "execution_count": 77,
   "metadata": {},
   "outputs": [
    {
     "data": {
      "text/plain": [
       "array([0.25 , 0.   , 0.   , 0.   , 0.125, 0.   , 0.   , 0.   , 0.   ,\n",
       "       0.   , 0.   , 0.   , 0.   , 0.25 , 0.125, 0.125, 0.   , 0.   ,\n",
       "       0.   , 0.   , 0.   , 0.   , 0.125, 0.   , 0.   , 0.   , 0.   ,\n",
       "       0.   , 0.   ])"
      ]
     },
     "execution_count": 77,
     "metadata": {},
     "output_type": "execute_result"
    }
   ],
   "source": [
    "test_knn_feats[44, 29:58]"
   ]
  },
  {
   "cell_type": "code",
   "execution_count": 78,
   "metadata": {},
   "outputs": [
    {
     "data": {
      "text/plain": [
       "0.25"
      ]
     },
     "execution_count": 78,
     "metadata": {},
     "output_type": "execute_result"
    }
   ],
   "source": [
    "true_knn_feats_first50[44,43]"
   ]
  },
  {
   "cell_type": "code",
   "execution_count": 79,
   "metadata": {},
   "outputs": [
    {
     "data": {
      "text/plain": [
       "array([0.25 , 0.   , 0.   , 0.   , 0.125, 0.   , 0.   , 0.   , 0.   ,\n",
       "       0.   , 0.   , 0.   , 0.   , 0.25 , 0.25 , 0.   , 0.   , 0.   ,\n",
       "       0.   , 0.   , 0.   , 0.125, 0.   , 0.   , 0.   , 0.   , 0.   ,\n",
       "       0.   , 0.   ])"
      ]
     },
     "execution_count": 79,
     "metadata": {},
     "output_type": "execute_result"
    }
   ],
   "source": [
    "true_knn_feats_first50[44,29:58]"
   ]
  },
  {
   "cell_type": "markdown",
   "metadata": {},
   "source": [
    "Now implement parallel computations and compute features for the train and test sets. "
   ]
  },
  {
   "cell_type": "markdown",
   "metadata": {},
   "source": [
    "## Get features for test"
   ]
  },
  {
   "cell_type": "markdown",
   "metadata": {},
   "source": [
    "Now compute features for the whole test set."
   ]
  },
  {
   "cell_type": "code",
   "execution_count": null,
   "metadata": {},
   "outputs": [],
   "source": [
    "for metric in ['minkowski', 'cosine']:\n",
    "    print (metric)\n",
    "    \n",
    "    # Create instance of our KNN feature extractor\n",
    "    NNF = NearestNeighborsFeats(n_jobs=4, k_list=k_list, metric=metric)\n",
    "    \n",
    "    # Fit on train set\n",
    "    NNF.fit(X, Y)\n",
    "\n",
    "    # Get features for test\n",
    "    test_knn_feats = NNF.predict(X_test)\n",
    "    \n",
    "    # Dump the features to disk\n",
    "    np.save('data/knn_feats_%s_test.npy' % metric , test_knn_feats)"
   ]
  },
  {
   "cell_type": "markdown",
   "metadata": {},
   "source": [
    "## Get features for train"
   ]
  },
  {
   "cell_type": "markdown",
   "metadata": {},
   "source": [
    "Compute features for train, using out-of-fold strategy."
   ]
  },
  {
   "cell_type": "code",
   "execution_count": null,
   "metadata": {},
   "outputs": [],
   "source": [
    "# Differently from other homework we will not implement OOF predictions ourselves\n",
    "# but use sklearn's `cross_val_predict`\n",
    "from sklearn.model_selection import cross_val_predict\n",
    "from sklearn.model_selection import StratifiedKFold\n",
    "\n",
    "# We will use two metrics for KNN\n",
    "for metric in ['minkowski', 'cosine']:\n",
    "    print (metric)\n",
    "    \n",
    "    # Set up splitting scheme, use StratifiedKFold\n",
    "    # use skf_seed and n_splits defined above with shuffle=True\n",
    "    skf = # YOUR CODE GOES HERE\n",
    "    \n",
    "    # Create instance of our KNN feature extractor\n",
    "    # n_jobs can be larger than the number of cores\n",
    "    NNF = NearestNeighborsFeats(n_jobs=4, k_list=k_list, metric=metric)\n",
    "    \n",
    "    # Get KNN features using OOF use cross_val_predict with right parameters\n",
    "    preds = # YOUR CODE GOES HERE\n",
    "    \n",
    "    # Save the features\n",
    "    np.save('data/knn_feats_%s_train.npy' % metric, preds)"
   ]
  },
  {
   "cell_type": "markdown",
   "metadata": {},
   "source": [
    "# Submit"
   ]
  },
  {
   "cell_type": "markdown",
   "metadata": {},
   "source": [
    "If you made the above cells work, just run the following cell to produce a number to submit."
   ]
  },
  {
   "cell_type": "code",
   "execution_count": null,
   "metadata": {},
   "outputs": [],
   "source": [
    "s = 0\n",
    "for metric in ['minkowski', 'cosine']:\n",
    "    knn_feats_train = np.load('data/knn_feats_%s_train.npy' % metric)\n",
    "    knn_feats_test = np.load('data/knn_feats_%s_test.npy' % metric)\n",
    "    \n",
    "    s += knn_feats_train.mean() + knn_feats_test.mean()\n",
    "    \n",
    "answer = np.floor(s)\n",
    "print (answer)"
   ]
  },
  {
   "cell_type": "markdown",
   "metadata": {},
   "source": [
    "Submit!"
   ]
  },
  {
   "cell_type": "code",
   "execution_count": null,
   "metadata": {},
   "outputs": [],
   "source": [
    "from grader import Grader\n",
    "\n",
    "grader.submit_tag('statistic', answer)\n",
    "\n",
    "STUDENT_EMAIL = # EMAIL HERE\n",
    "STUDENT_TOKEN = # TOKEN HERE\n",
    "grader.status()\n",
    "\n",
    "grader.submit(STUDENT_EMAIL, STUDENT_TOKEN)"
   ]
  }
 ],
 "metadata": {
  "anaconda-cloud": {},
  "kernelspec": {
   "display_name": "competitiveds",
   "language": "python",
   "name": "competitiveds"
  }
 },
 "nbformat": 4,
 "nbformat_minor": 2
}
